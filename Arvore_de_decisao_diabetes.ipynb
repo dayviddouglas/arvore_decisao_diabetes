{
  "nbformat": 4,
  "nbformat_minor": 0,
  "metadata": {
    "colab": {
      "provenance": [],
      "include_colab_link": true
    },
    "kernelspec": {
      "name": "python3",
      "display_name": "Python 3"
    },
    "language_info": {
      "name": "python"
    }
  },
  "cells": [
    {
      "cell_type": "markdown",
      "metadata": {
        "id": "view-in-github",
        "colab_type": "text"
      },
      "source": [
        "<a href=\"https://colab.research.google.com/github/dayviddouglas/arvore_decisao_diabetes/blob/main/Arvore_de_decisao_diabetes.ipynb\" target=\"_parent\"><img src=\"https://colab.research.google.com/assets/colab-badge.svg\" alt=\"Open In Colab\"/></a>"
      ]
    },
    {
      "cell_type": "code",
      "execution_count": 23,
      "metadata": {
        "id": "M0MbyQ8hW3JW"
      },
      "outputs": [],
      "source": [
        "import pandas as pd\n",
        "import numpy as np\n",
        "from sklearn import tree\n"
      ]
    },
    {
      "cell_type": "markdown",
      "source": [
        "<h3> Lendo o dataframe <h3/>\n",
        "\n",
        "\n"
      ],
      "metadata": {
        "id": "X2kx_HT3uxcu"
      }
    },
    {
      "cell_type": "code",
      "source": [
        "df= pd.read_csv('/content/diabetes_dataset00.csv')"
      ],
      "metadata": {
        "id": "0_PWRO7wXU4U"
      },
      "execution_count": 24,
      "outputs": []
    },
    {
      "cell_type": "markdown",
      "source": [
        "<h3> Selecionando os tipos de diabetes para estudo: tipo1, tipo2 e tipo 3. <h3/>"
      ],
      "metadata": {
        "id": "NmSrF3KHu495"
      }
    },
    {
      "cell_type": "code",
      "source": [
        "diabetes_tipo_1=df.loc[df['Target']== \"Type 1 Diabetes\"]\n",
        "diabetes_tipo_2=df.loc[df['Target']== \"Type 2 Diabetes\"]\n",
        "diabetes_tipo_3=df.loc[df['Target']== \"Type 3c Diabetes (Pancreatogenic Diabetes)\"]\n"
      ],
      "metadata": {
        "collapsed": true,
        "id": "F0N8LK6ycalO"
      },
      "execution_count": 25,
      "outputs": []
    },
    {
      "cell_type": "markdown",
      "source": [
        "<h3> Criando uma cópia do dataset de origem. <h3/>"
      ],
      "metadata": {
        "id": "npZnbK_svprX"
      }
    },
    {
      "cell_type": "code",
      "source": [
        "tipos_diabetes=df.copy()"
      ],
      "metadata": {
        "id": "b2qY3niqqGea"
      },
      "execution_count": 26,
      "outputs": []
    },
    {
      "cell_type": "markdown",
      "source": [
        "<h3>Filtrando os registros das diabetes do tipo 1, 2 e 3.<h3/>\n"
      ],
      "metadata": {
        "id": "VBfZYduUv1PR"
      }
    },
    {
      "cell_type": "code",
      "source": [
        "tipos_diabetes = tipos_diabetes[tipos_diabetes['Target'].isin([\"Type 1 Diabetes\", \"Type 2 Diabetes\", \"Type 3c Diabetes (Pancreatogenic Diabetes)\"])]"
      ],
      "metadata": {
        "id": "siFTtsyHryJA"
      },
      "execution_count": 27,
      "outputs": []
    },
    {
      "cell_type": "markdown",
      "source": [
        "<h2> Fazendo o pré-processamento das variáveis.  <h2/>"
      ],
      "metadata": {
        "id": "FSZBvzd8wLbx"
      }
    },
    {
      "cell_type": "markdown",
      "source": [
        "<h3> Classificando a predisposição genética: Positivo para 1 e negativo para 0.<h3/>"
      ],
      "metadata": {
        "id": "2vrZ0UMpwh4Z"
      }
    },
    {
      "cell_type": "code",
      "source": [
        "tipos_diabetes.loc[tipos_diabetes['Genetic Markers'] == 'Positive', 'Genetic Markers']=1\n",
        "tipos_diabetes.loc[tipos_diabetes['Genetic Markers'] == 'Negative', 'Genetic Markers']=0"
      ],
      "metadata": {
        "id": "AEGEQoNyr0q6"
      },
      "execution_count": 28,
      "outputs": []
    },
    {
      "cell_type": "markdown",
      "source": [
        "<h3> Classificando a presença de autoanticorpos: Positivo para 1 e negativo para 0.<h3/>"
      ],
      "metadata": {
        "id": "hgF6yPcZx4T5"
      }
    },
    {
      "cell_type": "code",
      "source": [
        "tipos_diabetes.loc[tipos_diabetes['Autoantibodies']=='Positive', 'Autoantibodies']=1\n",
        "tipos_diabetes.loc[tipos_diabetes['Autoantibodies']=='Negative', 'Autoantibodies']=0\n"
      ],
      "metadata": {
        "id": "6TbeyGjgun8c"
      },
      "execution_count": 29,
      "outputs": []
    },
    {
      "cell_type": "markdown",
      "source": [
        "<h3> Classificando a presença do histórico familiar: sim para 1 e não  para 0.<h3/>"
      ],
      "metadata": {
        "id": "-wib7iLrzehv"
      }
    },
    {
      "cell_type": "code",
      "source": [
        "tipos_diabetes.loc[tipos_diabetes['Family History']=='Yes', 'Family History']=1\n",
        "tipos_diabetes.loc[tipos_diabetes['Family History']=='No', 'Family History']=0\n"
      ],
      "metadata": {
        "id": "dnSWV8tcxy9e"
      },
      "execution_count": 30,
      "outputs": []
    },
    {
      "cell_type": "markdown",
      "source": [
        "<h3> Classificando fatores ambientais: presente para 1 e não presente para 0.<h3/>"
      ],
      "metadata": {
        "id": "QMMhbQ52zo8L"
      }
    },
    {
      "cell_type": "code",
      "source": [
        "tipos_diabetes.loc[tipos_diabetes['Environmental Factors']=='Present', 'Environmental Factors']=1\n",
        "tipos_diabetes.loc[tipos_diabetes['Environmental Factors']=='Absent', 'Environmental Factors']=0"
      ],
      "metadata": {
        "id": "TOBcYAEKyb6p"
      },
      "execution_count": 31,
      "outputs": []
    },
    {
      "cell_type": "markdown",
      "source": [
        "<h3> Classificando o nível de atividade física: alto para 1, moderado para 2 e baixo para 3.<h3/>"
      ],
      "metadata": {
        "id": "JPhh-S5z1Kvl"
      }
    },
    {
      "cell_type": "code",
      "source": [
        "tipos_diabetes.loc[tipos_diabetes['Physical Activity']=='High', 'Physical Activity']=1\n",
        "tipos_diabetes.loc[tipos_diabetes['Physical Activity']=='Moderate', 'Physical Activity']=2\n",
        "tipos_diabetes.loc[tipos_diabetes['Physical Activity']=='Low', 'Physical Activity']=3"
      ],
      "metadata": {
        "id": "cQgf6T2VzW6X"
      },
      "execution_count": 32,
      "outputs": []
    },
    {
      "cell_type": "markdown",
      "source": [
        "<h3> Classificando os hábitos alimentares:saudável para 1 e não saudável para 0.<h3/>"
      ],
      "metadata": {
        "id": "5wEy9oHE2IWy"
      }
    },
    {
      "cell_type": "code",
      "source": [
        "tipos_diabetes.loc[tipos_diabetes['Dietary Habits']=='Healthy', 'Dietary Habits']=1\n",
        "tipos_diabetes.loc[tipos_diabetes['Dietary Habits']=='Unhealthy', 'Dietary Habits']=0"
      ],
      "metadata": {
        "id": "8VRs6ax81FYc"
      },
      "execution_count": 33,
      "outputs": []
    },
    {
      "cell_type": "code",
      "source": [
        "tipos_diabetes.columns"
      ],
      "metadata": {
        "id": "cvCAU4Bo2D4r",
        "collapsed": true,
        "outputId": "d9f1f29c-3549-4fdc-f86c-9a9b5e5f6a35",
        "colab": {
          "base_uri": "https://localhost:8080/"
        }
      },
      "execution_count": 34,
      "outputs": [
        {
          "output_type": "execute_result",
          "data": {
            "text/plain": [
              "Index(['Target', 'Genetic Markers', 'Autoantibodies', 'Family History',\n",
              "       'Environmental Factors', 'Insulin Levels', 'Age', 'BMI',\n",
              "       'Physical Activity', 'Dietary Habits', 'Blood Pressure',\n",
              "       'Cholesterol Levels', 'Waist Circumference', 'Blood Glucose Levels',\n",
              "       'Ethnicity', 'Socioeconomic Factors', 'Smoking Status',\n",
              "       'Alcohol Consumption', 'Glucose Tolerance Test', 'History of PCOS',\n",
              "       'Previous Gestational Diabetes', 'Pregnancy History',\n",
              "       'Weight Gain During Pregnancy', 'Pancreatic Health',\n",
              "       'Pulmonary Function', 'Cystic Fibrosis Diagnosis',\n",
              "       'Steroid Use History', 'Genetic Testing', 'Neurological Assessments',\n",
              "       'Liver Function Tests', 'Digestive Enzyme Levels', 'Urine Test',\n",
              "       'Birth Weight', 'Early Onset Symptoms'],\n",
              "      dtype='object')"
            ]
          },
          "metadata": {},
          "execution_count": 34
        }
      ]
    },
    {
      "cell_type": "markdown",
      "source": [
        "<h3> Classificando as entnias em 2 categorias:alto risco é 1 e baixo riso é 2.<h3/>"
      ],
      "metadata": {
        "id": "QO_7pP69Lk7Q"
      }
    },
    {
      "cell_type": "markdown",
      "source": [
        "<h3> </h3>"
      ],
      "metadata": {
        "id": "9FEMsjEfLXRl"
      }
    },
    {
      "cell_type": "code",
      "source": [
        "tipos_diabetes.loc[tipos_diabetes['Ethnicity']=='High Risk', 'Ethnicity']=1\n",
        "tipos_diabetes.loc[tipos_diabetes['Ethnicity']=='Low Risk', 'Ethnicity']=2"
      ],
      "metadata": {
        "id": "M_JU4cLwJgnP"
      },
      "execution_count": 35,
      "outputs": []
    },
    {
      "cell_type": "markdown",
      "source": [
        "<h3> Classificando os fatores socioeconômicos em 3 categorias:alto sendo 1, médio: 2 e baixo: 3.<h3/>"
      ],
      "metadata": {
        "id": "vMNUEvz3M9vU"
      }
    },
    {
      "cell_type": "code",
      "source": [
        "tipos_diabetes.loc[tipos_diabetes['Socioeconomic Factors']=='High', 'Socioeconomic Factors']=1\n",
        "tipos_diabetes.loc[tipos_diabetes['Socioeconomic Factors']=='Medium', 'Socioeconomic Factors']=2\n",
        "tipos_diabetes.loc[tipos_diabetes['Socioeconomic Factors']=='Low', 'Socioeconomic Factors']=3"
      ],
      "metadata": {
        "id": "Npnj_WbiMOIm"
      },
      "execution_count": 38,
      "outputs": []
    },
    {
      "cell_type": "markdown",
      "source": [
        "<h3> Classificando em fumantes e não fumantes. Fumantes sendo 1 e não fumantes recebe 0.<h3/>"
      ],
      "metadata": {
        "id": "HJ1RJfONNu1V"
      }
    },
    {
      "cell_type": "code",
      "source": [
        "tipos_diabetes.loc[tipos_diabetes['Smoking Status']=='Smoker', 'Smoking Status']=1\n",
        "tipos_diabetes.loc[tipos_diabetes['Smoking Status']=='Non-Smoker', 'Smoking Status']=0"
      ],
      "metadata": {
        "id": "gFDZbvs7M0se"
      },
      "execution_count": 41,
      "outputs": []
    },
    {
      "cell_type": "markdown",
      "source": [
        "<h3> Classificando consumo de alcóol: alto para 1, moderado para 2 e baixo para 3.<h3/>\n"
      ],
      "metadata": {
        "id": "HNHH4oGiO7WW"
      }
    },
    {
      "cell_type": "code",
      "source": [
        "tipos_diabetes.loc[tipos_diabetes['Alcohol Consumption']=='High', 'Alcohol Consumption']=1\n",
        "tipos_diabetes.loc[tipos_diabetes['Alcohol Consumption']=='Moderate', 'Alcohol Consumption']=2\n",
        "tipos_diabetes.loc[tipos_diabetes['Alcohol Consumption']=='Low', 'Alcohol Consumption']=3"
      ],
      "metadata": {
        "id": "EnLQPxXKOJZ-"
      },
      "execution_count": 44,
      "outputs": []
    }
  ]
}
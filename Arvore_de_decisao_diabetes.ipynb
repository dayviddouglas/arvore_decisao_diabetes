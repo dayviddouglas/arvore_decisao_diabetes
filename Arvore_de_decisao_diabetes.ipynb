{
  "nbformat": 4,
  "nbformat_minor": 0,
  "metadata": {
    "colab": {
      "provenance": []
    },
    "kernelspec": {
      "name": "python3",
      "display_name": "Python 3"
    },
    "language_info": {
      "name": "python"
    }
  },
  "cells": [
    {
      "cell_type": "code",
      "execution_count": 23,
      "metadata": {
        "id": "M0MbyQ8hW3JW"
      },
      "outputs": [],
      "source": [
        "import pandas as pd\n",
        "import numpy as np\n",
        "from sklearn import tree\n"
      ]
    },
    {
      "cell_type": "markdown",
      "source": [
        "<h3> Lendo o dataframe <h3/>\n",
        "\n",
        "\n"
      ],
      "metadata": {
        "id": "X2kx_HT3uxcu"
      }
    },
    {
      "cell_type": "code",
      "source": [
        "df= pd.read_csv('/content/diabetes_dataset00.csv')"
      ],
      "metadata": {
        "id": "0_PWRO7wXU4U"
      },
      "execution_count": 24,
      "outputs": []
    },
    {
      "cell_type": "markdown",
      "source": [
        "<h3> Selecionando os tipos de diabetes para estudo: tipo1, tipo2 e tipo 3. <h3/>"
      ],
      "metadata": {
        "id": "NmSrF3KHu495"
      }
    },
    {
      "cell_type": "code",
      "source": [
        "diabetes_tipo_1=df.loc[df['Target']== \"Type 1 Diabetes\"]\n",
        "diabetes_tipo_2=df.loc[df['Target']== \"Type 2 Diabetes\"]\n",
        "diabetes_tipo_3=df.loc[df['Target']== \"Type 3c Diabetes (Pancreatogenic Diabetes)\"]\n"
      ],
      "metadata": {
        "collapsed": true,
        "id": "F0N8LK6ycalO"
      },
      "execution_count": 25,
      "outputs": []
    },
    {
      "cell_type": "markdown",
      "source": [
        "<h3> Criando uma cópia do dataset de origem. <h3/>"
      ],
      "metadata": {
        "id": "npZnbK_svprX"
      }
    },
    {
      "cell_type": "code",
      "source": [
        "tipos_diabetes=df.copy()"
      ],
      "metadata": {
        "id": "b2qY3niqqGea"
      },
      "execution_count": 26,
      "outputs": []
    },
    {
      "cell_type": "markdown",
      "source": [
        "<h3>Filtrando os registros das diabetes do tipo 1, 2 e 3.<h3/>\n"
      ],
      "metadata": {
        "id": "VBfZYduUv1PR"
      }
    },
    {
      "cell_type": "code",
      "source": [
        "tipos_diabetes = tipos_diabetes[tipos_diabetes['Target'].isin([\"Type 1 Diabetes\", \"Type 2 Diabetes\", \"Type 3c Diabetes (Pancreatogenic Diabetes)\"])]"
      ],
      "metadata": {
        "id": "siFTtsyHryJA"
      },
      "execution_count": 27,
      "outputs": []
    },
    {
      "cell_type": "markdown",
      "source": [
        "<h2> Fazendo o pré-processamento das variáveis.  <h2/>"
      ],
      "metadata": {
        "id": "FSZBvzd8wLbx"
      }
    },
    {
      "cell_type": "markdown",
      "source": [
        "<h3> Classificando a predisposição genética: Positivo para 1 e negativo para 0.<h3/>"
      ],
      "metadata": {
        "id": "2vrZ0UMpwh4Z"
      }
    },
    {
      "cell_type": "code",
      "source": [
        "tipos_diabetes.loc[tipos_diabetes['Genetic Markers'] == 'Positive', 'Genetic Markers']=1\n",
        "tipos_diabetes.loc[tipos_diabetes['Genetic Markers'] == 'Negative', 'Genetic Markers']=0"
      ],
      "metadata": {
        "id": "AEGEQoNyr0q6"
      },
      "execution_count": 28,
      "outputs": []
    },
    {
      "cell_type": "markdown",
      "source": [
        "<h3> Classificando a presença de autoanticorpos: Positivo para 1 e negativo para 0.<h3/>"
      ],
      "metadata": {
        "id": "hgF6yPcZx4T5"
      }
    },
    {
      "cell_type": "code",
      "source": [
        "tipos_diabetes.loc[tipos_diabetes['Autoantibodies']=='Positive', 'Autoantibodies']=1\n",
        "tipos_diabetes.loc[tipos_diabetes['Autoantibodies']=='Negative', 'Autoantibodies']=0\n"
      ],
      "metadata": {
        "id": "6TbeyGjgun8c"
      },
      "execution_count": 29,
      "outputs": []
    },
    {
      "cell_type": "markdown",
      "source": [
        "<h3> Classificando a presença do histórico familiar: sim para 1 e não  para 0.<h3/>"
      ],
      "metadata": {
        "id": "-wib7iLrzehv"
      }
    },
    {
      "cell_type": "code",
      "source": [
        "tipos_diabetes.loc[tipos_diabetes['Family History']=='Yes', 'Family History']=1\n",
        "tipos_diabetes.loc[tipos_diabetes['Family History']=='No', 'Family History']=0\n"
      ],
      "metadata": {
        "id": "dnSWV8tcxy9e"
      },
      "execution_count": 30,
      "outputs": []
    },
    {
      "cell_type": "markdown",
      "source": [
        "<h3> Classificando fatores ambientais: presente para 1 e não presente para 0.<h3/>"
      ],
      "metadata": {
        "id": "QMMhbQ52zo8L"
      }
    },
    {
      "cell_type": "code",
      "source": [
        "tipos_diabetes.loc[tipos_diabetes['Environmental Factors']=='Present', 'Environmental Factors']=1\n",
        "tipos_diabetes.loc[tipos_diabetes['Environmental Factors']=='Absent', 'Environmental Factors']=0"
      ],
      "metadata": {
        "id": "TOBcYAEKyb6p"
      },
      "execution_count": 31,
      "outputs": []
    },
    {
      "cell_type": "markdown",
      "source": [
        "<h3> Classificando o nível de atividade física: alto para 1, moderado para 2 e baixo para 3.<h3/>"
      ],
      "metadata": {
        "id": "JPhh-S5z1Kvl"
      }
    },
    {
      "cell_type": "code",
      "source": [
        "tipos_diabetes.loc[tipos_diabetes['Physical Activity']=='High', 'Physical Activity']=1\n",
        "tipos_diabetes.loc[tipos_diabetes['Physical Activity']=='Moderate', 'Physical Activity']=2\n",
        "tipos_diabetes.loc[tipos_diabetes['Physical Activity']=='Low', 'Physical Activity']=3"
      ],
      "metadata": {
        "id": "cQgf6T2VzW6X"
      },
      "execution_count": 32,
      "outputs": []
    },
    {
      "cell_type": "markdown",
      "source": [
        "<h3> Classificando os hábitos alimentares:saudável para 1 e não saudável para 0.<h3/>"
      ],
      "metadata": {
        "id": "5wEy9oHE2IWy"
      }
    },
    {
      "cell_type": "code",
      "source": [
        "tipos_diabetes.loc[tipos_diabetes['Dietary Habits']=='Healthy', 'Dietary Habits']=1\n",
        "tipos_diabetes.loc[tipos_diabetes['Dietary Habits']=='Unhealthy', 'Dietary Habits']=0"
      ],
      "metadata": {
        "id": "8VRs6ax81FYc"
      },
      "execution_count": 33,
      "outputs": []
    },
    {
      "cell_type": "code",
      "source": [
        "tipos_diabetes.columns"
      ],
      "metadata": {
        "id": "cvCAU4Bo2D4r",
        "collapsed": true,
        "colab": {
          "base_uri": "https://localhost:8080/"
        },
        "outputId": "d9f1f29c-3549-4fdc-f86c-9a9b5e5f6a35"
      },
      "execution_count": 34,
      "outputs": [
        {
          "output_type": "execute_result",
          "data": {
            "text/plain": [
              "Index(['Target', 'Genetic Markers', 'Autoantibodies', 'Family History',\n",
              "       'Environmental Factors', 'Insulin Levels', 'Age', 'BMI',\n",
              "       'Physical Activity', 'Dietary Habits', 'Blood Pressure',\n",
              "       'Cholesterol Levels', 'Waist Circumference', 'Blood Glucose Levels',\n",
              "       'Ethnicity', 'Socioeconomic Factors', 'Smoking Status',\n",
              "       'Alcohol Consumption', 'Glucose Tolerance Test', 'History of PCOS',\n",
              "       'Previous Gestational Diabetes', 'Pregnancy History',\n",
              "       'Weight Gain During Pregnancy', 'Pancreatic Health',\n",
              "       'Pulmonary Function', 'Cystic Fibrosis Diagnosis',\n",
              "       'Steroid Use History', 'Genetic Testing', 'Neurological Assessments',\n",
              "       'Liver Function Tests', 'Digestive Enzyme Levels', 'Urine Test',\n",
              "       'Birth Weight', 'Early Onset Symptoms'],\n",
              "      dtype='object')"
            ]
          },
          "metadata": {},
          "execution_count": 34
        }
      ]
    },
    {
      "cell_type": "markdown",
      "source": [
        "<h3> Classificando as entnias em 2 categorias:alto risco é 1 e baixo riso é 2.<h3/>"
      ],
      "metadata": {
        "id": "QO_7pP69Lk7Q"
      }
    },
    {
      "cell_type": "markdown",
      "source": [
        "<h3> </h3>"
      ],
      "metadata": {
        "id": "9FEMsjEfLXRl"
      }
    },
    {
      "cell_type": "code",
      "source": [
        "tipos_diabetes.loc[tipos_diabetes['Ethnicity']=='High Risk', 'Ethnicity']=1\n",
        "tipos_diabetes.loc[tipos_diabetes['Ethnicity']=='Low Risk', 'Ethnicity']=2"
      ],
      "metadata": {
        "id": "M_JU4cLwJgnP"
      },
      "execution_count": 35,
      "outputs": []
    },
    {
      "cell_type": "markdown",
      "source": [
        "<h3> Classificando os fatores socioeconômicos em 3 categorias:alto sendo 1, médio: 2 e baixo: 3.<h3/>"
      ],
      "metadata": {
        "id": "vMNUEvz3M9vU"
      }
    },
    {
      "cell_type": "code",
      "source": [
        "tipos_diabetes.loc[tipos_diabetes['Socioeconomic Factors']=='High', 'Socioeconomic Factors']=1\n",
        "tipos_diabetes.loc[tipos_diabetes['Socioeconomic Factors']=='Medium', 'Socioeconomic Factors']=2\n",
        "tipos_diabetes.loc[tipos_diabetes['Socioeconomic Factors']=='Low', 'Socioeconomic Factors']=3"
      ],
      "metadata": {
        "id": "Npnj_WbiMOIm"
      },
      "execution_count": 38,
      "outputs": []
    },
    {
      "cell_type": "markdown",
      "source": [
        "<h3> Classificando em fumantes e não fumantes. Fumantes sendo 1 e não fumantes recebe 0.<h3/>"
      ],
      "metadata": {
        "id": "HJ1RJfONNu1V"
      }
    },
    {
      "cell_type": "code",
      "source": [
        "tipos_diabetes.loc[tipos_diabetes['Smoking Status']=='Smoker', 'Smoking Status']=1\n",
        "tipos_diabetes.loc[tipos_diabetes['Smoking Status']=='Non-Smoker', 'Smoking Status']=0"
      ],
      "metadata": {
        "id": "gFDZbvs7M0se"
      },
      "execution_count": 41,
      "outputs": []
    },
    {
      "cell_type": "markdown",
      "source": [
        "<h3> Classificando consumo de alcóol: alto para 1, moderado para 2 e baixo para 3.<h3/>\n"
      ],
      "metadata": {
        "id": "HNHH4oGiO7WW"
      }
    },
    {
      "cell_type": "code",
      "source": [
        "tipos_diabetes.loc[tipos_diabetes['Alcohol Consumption']=='High', 'Alcohol Consumption']=1\n",
        "tipos_diabetes.loc[tipos_diabetes['Alcohol Consumption']=='Moderate', 'Alcohol Consumption']=2\n",
        "tipos_diabetes.loc[tipos_diabetes['Alcohol Consumption']=='Low', 'Alcohol Consumption']=3"
      ],
      "metadata": {
        "id": "EnLQPxXKOJZ-"
      },
      "execution_count": 44,
      "outputs": []
    },
    {
      "cell_type": "markdown",
      "source": [
        "<h3>Classificando o teste de tolerância a glicose: normal sendo 0 e anormal 1.<h3/>"
      ],
      "metadata": {
        "id": "bQP9JbR3RrOx"
      }
    },
    {
      "cell_type": "code",
      "source": [
        "tipos_diabetes.loc[tipos_diabetes['Glucose Tolerance Test']=='Abnormal', 'Glucose Tolerance Test']=1\n",
        "tipos_diabetes.loc[tipos_diabetes['Glucose Tolerance Test']=='Normal', 'Glucose Tolerance Test']=0"
      ],
      "metadata": {
        "id": "fVH9PgEGRGza"
      },
      "execution_count": 46,
      "outputs": []
    },
    {
      "cell_type": "markdown",
      "source": [
        "<h3>Classificando o histórico de Síndrome dos ovários policísticos:sendo 1 para sim e 0 para não.<h3/>\n",
        "\n",
        "\n",
        "\n"
      ],
      "metadata": {
        "id": "Nay2hIP6TEW_"
      }
    },
    {
      "cell_type": "code",
      "source": [
        "tipos_diabetes.loc[tipos_diabetes['History of PCOS']== 'Yes', 'History of PCOS']=1\n",
        "tipos_diabetes.loc[tipos_diabetes['History of PCOS']== 'No', 'History of PCOS']=0"
      ],
      "metadata": {
        "id": "SfUWME3PSkTc"
      },
      "execution_count": 48,
      "outputs": []
    },
    {
      "cell_type": "markdown",
      "source": [
        "<h3>Classificando o histórico de diabetes gestacional :sendo 1 para sim e 0 para não.<h3/>"
      ],
      "metadata": {
        "id": "lAjGtHZ3UsvS"
      }
    },
    {
      "cell_type": "code",
      "source": [
        "tipos_diabetes.loc[tipos_diabetes['Previous Gestational Diabetes']== 'Yes', 'Previous Gestational Diabetes']=1\n",
        "tipos_diabetes.loc[tipos_diabetes['Previous Gestational Diabetes']== 'No', 'Previous Gestational Diabetes']=0"
      ],
      "metadata": {
        "id": "UMsyoCfaT8Z4"
      },
      "execution_count": 52,
      "outputs": []
    },
    {
      "cell_type": "markdown",
      "source": [
        "<h3>Classificando o histórico de gravidez:sendo 1 para quem teve complicações e 0 para não teve.<h3/>"
      ],
      "metadata": {
        "id": "uNASZnhPVvci"
      }
    },
    {
      "cell_type": "code",
      "source": [
        "tipos_diabetes.loc[tipos_diabetes['Pregnancy History']== 'Complications', 'Pregnancy History']=1\n",
        "tipos_diabetes.loc[tipos_diabetes['Pregnancy History']== 'Normal', 'Pregnancy History']=0"
      ],
      "metadata": {
        "id": "ioCqxyX4U9l8"
      },
      "execution_count": 54,
      "outputs": []
    },
    {
      "cell_type": "markdown",
      "source": [
        "<h3>Classificando o histórico de diagnóstico de fibrose cística :sendo 1 para sim e 0 para não.<h3/>"
      ],
      "metadata": {
        "id": "8xmwYYRMafx0"
      }
    },
    {
      "cell_type": "code",
      "source": [
        "tipos_diabetes.loc[tipos_diabetes['Cystic Fibrosis Diagnosis'] == 'Yes', 'Cystic Fibrosis Diagnosis']=1\n",
        "tipos_diabetes.loc[tipos_diabetes['Cystic Fibrosis Diagnosis'] == 'No', 'Cystic Fibrosis Diagnosis']=0"
      ],
      "metadata": {
        "id": "ga8_6JkSXy23"
      },
      "execution_count": 65,
      "outputs": []
    },
    {
      "cell_type": "markdown",
      "source": [
        "<h3>Classificando o histórico de uso de esteroides:sendo 1 para sim e 0 para não.<h3/>"
      ],
      "metadata": {
        "id": "lje0o1sObY0P"
      }
    },
    {
      "cell_type": "code",
      "source": [
        "tipos_diabetes.loc[tipos_diabetes['Steroid Use History']=='Yes', 'Steroid Use History']=1\n",
        "tipos_diabetes.loc[tipos_diabetes['Steroid Use History']=='No', 'Steroid Use History']=0"
      ],
      "metadata": {
        "id": "1Ear72U2a3Ux"
      },
      "execution_count": 68,
      "outputs": []
    },
    {
      "cell_type": "markdown",
      "source": [
        "<h3>Classificando o teste genético:sendo 1 para positivo e 0 para negativo.<h3/>"
      ],
      "metadata": {
        "id": "WXoqkIqLcCfQ"
      }
    },
    {
      "cell_type": "code",
      "source": [
        "tipos_diabetes.loc[tipos_diabetes['Genetic Testing']=='Positive', 'Genetic Testing']=1\n",
        "tipos_diabetes.loc[tipos_diabetes['Genetic Testing']=='Negative', 'Genetic Testing']=0\n"
      ],
      "metadata": {
        "id": "jZ_CIxWcbnvo"
      },
      "execution_count": 70,
      "outputs": []
    },
    {
      "cell_type": "markdown",
      "source": [
        "<h3>Classificando o teste de função hepática.:sendo 1 para anormal e 0 para normal.<h3/>"
      ],
      "metadata": {
        "id": "vuGZx4n1foFQ"
      }
    },
    {
      "cell_type": "code",
      "source": [
        "tipos_diabetes.loc[tipos_diabetes['Liver Function Tests'] == 'Abnormal', 'Liver Function Tests']=1\n",
        "tipos_diabetes.loc[tipos_diabetes['Liver Function Tests'] == 'Normal', 'Liver Function Tests']=0"
      ],
      "metadata": {
        "id": "w1vL4KDHcQJn"
      },
      "execution_count": 77,
      "outputs": []
    },
    {
      "cell_type": "markdown",
      "source": [
        "<h3>Classificando o resultado em categorias.:sendo 1 para presença de proteína, 2 para presença de cetonas, 3 para presença de glicose e 4 para resultado normal.<h3/>"
      ],
      "metadata": {
        "id": "HcEKBBQbh7sE"
      }
    },
    {
      "cell_type": "code",
      "source": [
        "tipos_diabetes.loc[tipos_diabetes['Urine Test'] == 'Normal', 'Urine Test']=4\n",
        "tipos_diabetes.loc[tipos_diabetes['Urine Test'] == 'Protein Present', 'Urine Test']=1\n",
        "tipos_diabetes.loc[tipos_diabetes['Urine Test'] == 'Ketones Present', 'Urine Test']=2\n",
        "tipos_diabetes.loc[tipos_diabetes['Urine Test'] == 'Glucose Present', 'Urine Test']=3"
      ],
      "metadata": {
        "id": "kNyKttrWf_Uv"
      },
      "execution_count": 81,
      "outputs": []
    },
    {
      "cell_type": "markdown",
      "source": [
        "<h3>Classificando a verificação de sintomas precoces.Sendo 1 para sim e 0 para não.<h3/>"
      ],
      "metadata": {
        "id": "C3chPAbUkIGr"
      }
    },
    {
      "cell_type": "code",
      "source": [
        "tipos_diabetes.loc[tipos_diabetes['Early Onset Symptoms'] == 'Yes', 'Early Onset Symptoms']=1\n",
        "tipos_diabetes.loc[tipos_diabetes['Early Onset Symptoms'] == 'No', 'Early Onset Symptoms']=0"
      ],
      "metadata": {
        "id": "zp0IIiIDinRp"
      },
      "execution_count": 84,
      "outputs": []
    }
  ]
}
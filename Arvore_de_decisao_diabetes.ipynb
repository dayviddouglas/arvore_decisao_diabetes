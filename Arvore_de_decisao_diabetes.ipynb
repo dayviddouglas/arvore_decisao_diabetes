{
  "nbformat": 4,
  "nbformat_minor": 0,
  "metadata": {
    "colab": {
      "provenance": [],
      "include_colab_link": true
    },
    "kernelspec": {
      "name": "python3",
      "display_name": "Python 3"
    },
    "language_info": {
      "name": "python"
    }
  },
  "cells": [
    {
      "cell_type": "markdown",
      "metadata": {
        "id": "view-in-github",
        "colab_type": "text"
      },
      "source": [
        "<a href=\"https://colab.research.google.com/github/dayviddouglas/arvore_decisao_diabetes/blob/main/Arvore_de_decisao_diabetes.ipynb\" target=\"_parent\"><img src=\"https://colab.research.google.com/assets/colab-badge.svg\" alt=\"Open In Colab\"/></a>"
      ]
    },
    {
      "cell_type": "code",
      "execution_count": 126,
      "metadata": {
        "id": "M0MbyQ8hW3JW"
      },
      "outputs": [],
      "source": [
        "import pandas as pd\n",
        "import numpy as np\n",
        "from sklearn import tree\n",
        "import matplotlib.pyplot as plt"
      ]
    },
    {
      "cell_type": "markdown",
      "source": [
        "<h3> Lendo o dataframe <h3/>\n",
        "\n",
        "\n"
      ],
      "metadata": {
        "id": "X2kx_HT3uxcu"
      }
    },
    {
      "cell_type": "code",
      "source": [
        "df= pd.read_csv('/content/diabetes_dataset00.csv')"
      ],
      "metadata": {
        "id": "0_PWRO7wXU4U"
      },
      "execution_count": 83,
      "outputs": []
    },
    {
      "cell_type": "markdown",
      "source": [
        "<h3> Selecionando os tipos de diabetes para estudo: tipo1, tipo2 e tipo 3. <h3/>"
      ],
      "metadata": {
        "id": "NmSrF3KHu495"
      }
    },
    {
      "cell_type": "code",
      "source": [
        "diabetes_tipo_1=df.loc[df['Target']== \"Type 1 Diabetes\"]\n",
        "diabetes_tipo_2=df.loc[df['Target']== \"Type 2 Diabetes\"]\n",
        "diabetes_tipo_3=df.loc[df['Target']== \"Type 3c Diabetes (Pancreatogenic Diabetes)\"]\n"
      ],
      "metadata": {
        "collapsed": true,
        "id": "F0N8LK6ycalO"
      },
      "execution_count": 84,
      "outputs": []
    },
    {
      "cell_type": "markdown",
      "source": [
        "<h3> Criando uma cópia do dataset de origem. <h3/>"
      ],
      "metadata": {
        "id": "npZnbK_svprX"
      }
    },
    {
      "cell_type": "code",
      "source": [
        "tipos_diabetes=df.copy()"
      ],
      "metadata": {
        "id": "b2qY3niqqGea"
      },
      "execution_count": 85,
      "outputs": []
    },
    {
      "cell_type": "markdown",
      "source": [
        "<h3>Filtrando os registros das diabetes do tipo 1, 2 e 3.<h3/>\n"
      ],
      "metadata": {
        "id": "VBfZYduUv1PR"
      }
    },
    {
      "cell_type": "code",
      "source": [
        "tipos_diabetes = tipos_diabetes[tipos_diabetes['Target'].isin([\"Type 1 Diabetes\", \"Type 2 Diabetes\", \"Type 3c Diabetes (Pancreatogenic Diabetes)\"])]"
      ],
      "metadata": {
        "id": "siFTtsyHryJA"
      },
      "execution_count": 86,
      "outputs": []
    },
    {
      "cell_type": "markdown",
      "source": [
        "<h2> Fazendo o pré-processamento das variáveis.  <h2/>"
      ],
      "metadata": {
        "id": "FSZBvzd8wLbx"
      }
    },
    {
      "cell_type": "markdown",
      "source": [
        "<h3> Classificando a predisposição genética: Positivo para 1 e negativo para 0.<h3/>"
      ],
      "metadata": {
        "id": "2vrZ0UMpwh4Z"
      }
    },
    {
      "cell_type": "code",
      "source": [
        "tipos_diabetes.loc[tipos_diabetes['Genetic Markers'] == 'Positive', 'Genetic Markers']=1\n",
        "tipos_diabetes.loc[tipos_diabetes['Genetic Markers'] == 'Negative', 'Genetic Markers']=0"
      ],
      "metadata": {
        "id": "AEGEQoNyr0q6"
      },
      "execution_count": 87,
      "outputs": []
    },
    {
      "cell_type": "markdown",
      "source": [
        "<h3> Classificando a presença de autoanticorpos: Positivo para 1 e negativo para 0.<h3/>"
      ],
      "metadata": {
        "id": "hgF6yPcZx4T5"
      }
    },
    {
      "cell_type": "code",
      "source": [
        "tipos_diabetes.loc[tipos_diabetes['Autoantibodies']=='Positive', 'Autoantibodies']=1\n",
        "tipos_diabetes.loc[tipos_diabetes['Autoantibodies']=='Negative', 'Autoantibodies']=0\n"
      ],
      "metadata": {
        "id": "6TbeyGjgun8c"
      },
      "execution_count": 88,
      "outputs": []
    },
    {
      "cell_type": "markdown",
      "source": [
        "<h3> Classificando a presença do histórico familiar: sim para 1 e não  para 0.<h3/>"
      ],
      "metadata": {
        "id": "-wib7iLrzehv"
      }
    },
    {
      "cell_type": "code",
      "source": [
        "tipos_diabetes.loc[tipos_diabetes['Family History']=='Yes', 'Family History']=1\n",
        "tipos_diabetes.loc[tipos_diabetes['Family History']=='No', 'Family History']=0\n"
      ],
      "metadata": {
        "id": "dnSWV8tcxy9e"
      },
      "execution_count": 89,
      "outputs": []
    },
    {
      "cell_type": "markdown",
      "source": [
        "<h3> Classificando fatores ambientais: presente para 1 e não presente para 0.<h3/>"
      ],
      "metadata": {
        "id": "QMMhbQ52zo8L"
      }
    },
    {
      "cell_type": "code",
      "source": [
        "tipos_diabetes.loc[tipos_diabetes['Environmental Factors']=='Present', 'Environmental Factors']=1\n",
        "tipos_diabetes.loc[tipos_diabetes['Environmental Factors']=='Absent', 'Environmental Factors']=0"
      ],
      "metadata": {
        "id": "TOBcYAEKyb6p"
      },
      "execution_count": 90,
      "outputs": []
    },
    {
      "cell_type": "markdown",
      "source": [
        "<h3> Classificando o nível de atividade física: alto para 1, moderado para 2 e baixo para 3.<h3/>"
      ],
      "metadata": {
        "id": "JPhh-S5z1Kvl"
      }
    },
    {
      "cell_type": "code",
      "source": [
        "tipos_diabetes.loc[tipos_diabetes['Physical Activity']=='High', 'Physical Activity']=1\n",
        "tipos_diabetes.loc[tipos_diabetes['Physical Activity']=='Moderate', 'Physical Activity']=2\n",
        "tipos_diabetes.loc[tipos_diabetes['Physical Activity']=='Low', 'Physical Activity']=3"
      ],
      "metadata": {
        "id": "cQgf6T2VzW6X"
      },
      "execution_count": 91,
      "outputs": []
    },
    {
      "cell_type": "markdown",
      "source": [
        "<h3> Classificando os hábitos alimentares:saudável para 1 e não saudável para 0.<h3/>"
      ],
      "metadata": {
        "id": "5wEy9oHE2IWy"
      }
    },
    {
      "cell_type": "code",
      "source": [
        "tipos_diabetes.loc[tipos_diabetes['Dietary Habits']=='Healthy', 'Dietary Habits']=1\n",
        "tipos_diabetes.loc[tipos_diabetes['Dietary Habits']=='Unhealthy', 'Dietary Habits']=0"
      ],
      "metadata": {
        "id": "8VRs6ax81FYc"
      },
      "execution_count": 92,
      "outputs": []
    },
    {
      "cell_type": "code",
      "source": [
        "tipos_diabetes.columns"
      ],
      "metadata": {
        "id": "cvCAU4Bo2D4r",
        "collapsed": true,
        "colab": {
          "base_uri": "https://localhost:8080/"
        },
        "outputId": "b22c79ff-901c-4c0a-8b16-445a2062a9f0"
      },
      "execution_count": 93,
      "outputs": [
        {
          "output_type": "execute_result",
          "data": {
            "text/plain": [
              "Index(['Target', 'Genetic Markers', 'Autoantibodies', 'Family History',\n",
              "       'Environmental Factors', 'Insulin Levels', 'Age', 'BMI',\n",
              "       'Physical Activity', 'Dietary Habits', 'Blood Pressure',\n",
              "       'Cholesterol Levels', 'Waist Circumference', 'Blood Glucose Levels',\n",
              "       'Ethnicity', 'Socioeconomic Factors', 'Smoking Status',\n",
              "       'Alcohol Consumption', 'Glucose Tolerance Test', 'History of PCOS',\n",
              "       'Previous Gestational Diabetes', 'Pregnancy History',\n",
              "       'Weight Gain During Pregnancy', 'Pancreatic Health',\n",
              "       'Pulmonary Function', 'Cystic Fibrosis Diagnosis',\n",
              "       'Steroid Use History', 'Genetic Testing', 'Neurological Assessments',\n",
              "       'Liver Function Tests', 'Digestive Enzyme Levels', 'Urine Test',\n",
              "       'Birth Weight', 'Early Onset Symptoms'],\n",
              "      dtype='object')"
            ]
          },
          "metadata": {},
          "execution_count": 93
        }
      ]
    },
    {
      "cell_type": "markdown",
      "source": [
        "<h3> Classificando as entnias em 2 categorias:alto risco é 1 e baixo riso é 2.<h3/>"
      ],
      "metadata": {
        "id": "QO_7pP69Lk7Q"
      }
    },
    {
      "cell_type": "markdown",
      "source": [
        "<h3> </h3>"
      ],
      "metadata": {
        "id": "9FEMsjEfLXRl"
      }
    },
    {
      "cell_type": "code",
      "source": [
        "tipos_diabetes.loc[tipos_diabetes['Ethnicity']=='High Risk', 'Ethnicity']=1\n",
        "tipos_diabetes.loc[tipos_diabetes['Ethnicity']=='Low Risk', 'Ethnicity']=2"
      ],
      "metadata": {
        "id": "M_JU4cLwJgnP"
      },
      "execution_count": 94,
      "outputs": []
    },
    {
      "cell_type": "markdown",
      "source": [
        "<h3> Classificando os fatores socioeconômicos em 3 categorias:alto sendo 1, médio: 2 e baixo: 3.<h3/>"
      ],
      "metadata": {
        "id": "vMNUEvz3M9vU"
      }
    },
    {
      "cell_type": "code",
      "source": [
        "tipos_diabetes.loc[tipos_diabetes['Socioeconomic Factors']=='High', 'Socioeconomic Factors']=1\n",
        "tipos_diabetes.loc[tipos_diabetes['Socioeconomic Factors']=='Medium', 'Socioeconomic Factors']=2\n",
        "tipos_diabetes.loc[tipos_diabetes['Socioeconomic Factors']=='Low', 'Socioeconomic Factors']=3"
      ],
      "metadata": {
        "id": "Npnj_WbiMOIm"
      },
      "execution_count": 95,
      "outputs": []
    },
    {
      "cell_type": "markdown",
      "source": [
        "<h3> Classificando em fumantes e não fumantes. Fumantes sendo 1 e não fumantes recebe 0.<h3/>"
      ],
      "metadata": {
        "id": "HJ1RJfONNu1V"
      }
    },
    {
      "cell_type": "code",
      "source": [
        "tipos_diabetes.loc[tipos_diabetes['Smoking Status']=='Smoker', 'Smoking Status']=1\n",
        "tipos_diabetes.loc[tipos_diabetes['Smoking Status']=='Non-Smoker', 'Smoking Status']=0"
      ],
      "metadata": {
        "id": "gFDZbvs7M0se"
      },
      "execution_count": 96,
      "outputs": []
    },
    {
      "cell_type": "markdown",
      "source": [
        "<h3> Classificando consumo de alcóol: alto para 1, moderado para 2 e baixo para 3.<h3/>\n"
      ],
      "metadata": {
        "id": "HNHH4oGiO7WW"
      }
    },
    {
      "cell_type": "code",
      "source": [
        "tipos_diabetes.loc[tipos_diabetes['Alcohol Consumption']=='High', 'Alcohol Consumption']=1\n",
        "tipos_diabetes.loc[tipos_diabetes['Alcohol Consumption']=='Moderate', 'Alcohol Consumption']=2\n",
        "tipos_diabetes.loc[tipos_diabetes['Alcohol Consumption']=='Low', 'Alcohol Consumption']=3"
      ],
      "metadata": {
        "id": "EnLQPxXKOJZ-"
      },
      "execution_count": 97,
      "outputs": []
    },
    {
      "cell_type": "markdown",
      "source": [
        "<h3>Classificando o teste de tolerância a glicose: normal sendo 0 e anormal 1.<h3/>"
      ],
      "metadata": {
        "id": "bQP9JbR3RrOx"
      }
    },
    {
      "cell_type": "code",
      "source": [
        "tipos_diabetes.loc[tipos_diabetes['Glucose Tolerance Test']=='Abnormal', 'Glucose Tolerance Test']=1\n",
        "tipos_diabetes.loc[tipos_diabetes['Glucose Tolerance Test']=='Normal', 'Glucose Tolerance Test']=0"
      ],
      "metadata": {
        "id": "fVH9PgEGRGza"
      },
      "execution_count": 98,
      "outputs": []
    },
    {
      "cell_type": "markdown",
      "source": [
        "<h3>Classificando o histórico de Síndrome dos ovários policísticos:sendo 1 para sim e 0 para não.<h3/>\n",
        "\n",
        "\n",
        "\n"
      ],
      "metadata": {
        "id": "Nay2hIP6TEW_"
      }
    },
    {
      "cell_type": "code",
      "source": [
        "tipos_diabetes.loc[tipos_diabetes['History of PCOS']== 'Yes', 'History of PCOS']=1\n",
        "tipos_diabetes.loc[tipos_diabetes['History of PCOS']== 'No', 'History of PCOS']=0"
      ],
      "metadata": {
        "id": "SfUWME3PSkTc"
      },
      "execution_count": 99,
      "outputs": []
    },
    {
      "cell_type": "markdown",
      "source": [
        "<h3>Classificando o histórico de diabetes gestacional :sendo 1 para sim e 0 para não.<h3/>"
      ],
      "metadata": {
        "id": "lAjGtHZ3UsvS"
      }
    },
    {
      "cell_type": "code",
      "source": [
        "tipos_diabetes.loc[tipos_diabetes['Previous Gestational Diabetes']== 'Yes', 'Previous Gestational Diabetes']=1\n",
        "tipos_diabetes.loc[tipos_diabetes['Previous Gestational Diabetes']== 'No', 'Previous Gestational Diabetes']=0"
      ],
      "metadata": {
        "id": "UMsyoCfaT8Z4"
      },
      "execution_count": 100,
      "outputs": []
    },
    {
      "cell_type": "markdown",
      "source": [
        "<h3>Classificando o histórico de gravidez:sendo 1 para quem teve complicações e 0 para não teve.<h3/>"
      ],
      "metadata": {
        "id": "uNASZnhPVvci"
      }
    },
    {
      "cell_type": "code",
      "source": [
        "tipos_diabetes.loc[tipos_diabetes['Pregnancy History']== 'Complications', 'Pregnancy History']=1\n",
        "tipos_diabetes.loc[tipos_diabetes['Pregnancy History']== 'Normal', 'Pregnancy History']=0"
      ],
      "metadata": {
        "id": "ioCqxyX4U9l8"
      },
      "execution_count": 101,
      "outputs": []
    },
    {
      "cell_type": "markdown",
      "source": [
        "<h3>Classificando o histórico de diagnóstico de fibrose cística :sendo 1 para sim e 0 para não.<h3/>"
      ],
      "metadata": {
        "id": "8xmwYYRMafx0"
      }
    },
    {
      "cell_type": "code",
      "source": [
        "tipos_diabetes.loc[tipos_diabetes['Cystic Fibrosis Diagnosis'] == 'Yes', 'Cystic Fibrosis Diagnosis']=1\n",
        "tipos_diabetes.loc[tipos_diabetes['Cystic Fibrosis Diagnosis'] == 'No', 'Cystic Fibrosis Diagnosis']=0"
      ],
      "metadata": {
        "id": "ga8_6JkSXy23"
      },
      "execution_count": 102,
      "outputs": []
    },
    {
      "cell_type": "markdown",
      "source": [
        "<h3>Classificando o histórico de uso de esteroides:sendo 1 para sim e 0 para não.<h3/>"
      ],
      "metadata": {
        "id": "lje0o1sObY0P"
      }
    },
    {
      "cell_type": "code",
      "source": [
        "tipos_diabetes.loc[tipos_diabetes['Steroid Use History']=='Yes', 'Steroid Use History']=1\n",
        "tipos_diabetes.loc[tipos_diabetes['Steroid Use History']=='No', 'Steroid Use History']=0"
      ],
      "metadata": {
        "id": "1Ear72U2a3Ux"
      },
      "execution_count": 103,
      "outputs": []
    },
    {
      "cell_type": "markdown",
      "source": [
        "<h3>Classificando o teste genético:sendo 1 para positivo e 0 para negativo.<h3/>"
      ],
      "metadata": {
        "id": "WXoqkIqLcCfQ"
      }
    },
    {
      "cell_type": "code",
      "source": [
        "tipos_diabetes.loc[tipos_diabetes['Genetic Testing']=='Positive', 'Genetic Testing']=1\n",
        "tipos_diabetes.loc[tipos_diabetes['Genetic Testing']=='Negative', 'Genetic Testing']=0\n"
      ],
      "metadata": {
        "id": "jZ_CIxWcbnvo"
      },
      "execution_count": 104,
      "outputs": []
    },
    {
      "cell_type": "markdown",
      "source": [
        "<h3>Classificando o teste de função hepática.:sendo 1 para anormal e 0 para normal.<h3/>"
      ],
      "metadata": {
        "id": "vuGZx4n1foFQ"
      }
    },
    {
      "cell_type": "code",
      "source": [
        "tipos_diabetes.loc[tipos_diabetes['Liver Function Tests'] == 'Abnormal', 'Liver Function Tests']=1\n",
        "tipos_diabetes.loc[tipos_diabetes['Liver Function Tests'] == 'Normal', 'Liver Function Tests']=0"
      ],
      "metadata": {
        "id": "w1vL4KDHcQJn"
      },
      "execution_count": 105,
      "outputs": []
    },
    {
      "cell_type": "markdown",
      "source": [
        "<h3>Classificando o resultado em categorias.:sendo 1 para presença de proteína, 2 para presença de cetonas, 3 para presença de glicose e 4 para resultado normal.<h3/>"
      ],
      "metadata": {
        "id": "HcEKBBQbh7sE"
      }
    },
    {
      "cell_type": "code",
      "source": [
        "tipos_diabetes.loc[tipos_diabetes['Urine Test'] == 'Normal', 'Urine Test']=4\n",
        "tipos_diabetes.loc[tipos_diabetes['Urine Test'] == 'Protein Present', 'Urine Test']=1\n",
        "tipos_diabetes.loc[tipos_diabetes['Urine Test'] == 'Ketones Present', 'Urine Test']=2\n",
        "tipos_diabetes.loc[tipos_diabetes['Urine Test'] == 'Glucose Present', 'Urine Test']=3"
      ],
      "metadata": {
        "id": "kNyKttrWf_Uv"
      },
      "execution_count": 106,
      "outputs": []
    },
    {
      "cell_type": "markdown",
      "source": [
        "<h3>Classificando a verificação de sintomas precoces.Sendo 1 para sim e 0 para não.<h3/>"
      ],
      "metadata": {
        "id": "C3chPAbUkIGr"
      }
    },
    {
      "cell_type": "code",
      "source": [
        "tipos_diabetes.loc[tipos_diabetes['Early Onset Symptoms'] == 'Yes', 'Early Onset Symptoms']=1\n",
        "tipos_diabetes.loc[tipos_diabetes['Early Onset Symptoms'] == 'No', 'Early Onset Symptoms']=0"
      ],
      "metadata": {
        "id": "zp0IIiIDinRp"
      },
      "execution_count": 107,
      "outputs": []
    },
    {
      "cell_type": "code",
      "source": [
        "tipos_diabetes.columns"
      ],
      "metadata": {
        "colab": {
          "base_uri": "https://localhost:8080/"
        },
        "id": "sPg1lOtxXS98",
        "outputId": "69349cbf-4c29-47e2-ba91-218bce7dceb0"
      },
      "execution_count": 108,
      "outputs": [
        {
          "output_type": "execute_result",
          "data": {
            "text/plain": [
              "Index(['Target', 'Genetic Markers', 'Autoantibodies', 'Family History',\n",
              "       'Environmental Factors', 'Insulin Levels', 'Age', 'BMI',\n",
              "       'Physical Activity', 'Dietary Habits', 'Blood Pressure',\n",
              "       'Cholesterol Levels', 'Waist Circumference', 'Blood Glucose Levels',\n",
              "       'Ethnicity', 'Socioeconomic Factors', 'Smoking Status',\n",
              "       'Alcohol Consumption', 'Glucose Tolerance Test', 'History of PCOS',\n",
              "       'Previous Gestational Diabetes', 'Pregnancy History',\n",
              "       'Weight Gain During Pregnancy', 'Pancreatic Health',\n",
              "       'Pulmonary Function', 'Cystic Fibrosis Diagnosis',\n",
              "       'Steroid Use History', 'Genetic Testing', 'Neurological Assessments',\n",
              "       'Liver Function Tests', 'Digestive Enzyme Levels', 'Urine Test',\n",
              "       'Birth Weight', 'Early Onset Symptoms'],\n",
              "      dtype='object')"
            ]
          },
          "metadata": {},
          "execution_count": 108
        }
      ]
    },
    {
      "cell_type": "markdown",
      "source": [
        "<h3>Agrupando as idades sendo 1 para idoso, 2 para adulto e 3 para criança/adolescente.</h3>"
      ],
      "metadata": {
        "id": "Mhfhp_I_kY8D"
      }
    },
    {
      "cell_type": "code",
      "source": [
        "tipos_diabetes['Age'].value_counts()"
      ],
      "metadata": {
        "colab": {
          "base_uri": "https://localhost:8080/",
          "height": 490
        },
        "id": "mLizzFsZfaol",
        "outputId": "678f19dd-5a1b-48d2-bbf7-82c6f9cbeec9"
      },
      "execution_count": 109,
      "outputs": [
        {
          "output_type": "execute_result",
          "data": {
            "text/plain": [
              "Age\n",
              "54    321\n",
              "53    303\n",
              "61    303\n",
              "48    303\n",
              "66    295\n",
              "     ... \n",
              "32     97\n",
              "38     97\n",
              "31     97\n",
              "79     96\n",
              "34     94\n",
              "Name: count, Length: 75, dtype: int64"
            ],
            "text/html": [
              "<div>\n",
              "<style scoped>\n",
              "    .dataframe tbody tr th:only-of-type {\n",
              "        vertical-align: middle;\n",
              "    }\n",
              "\n",
              "    .dataframe tbody tr th {\n",
              "        vertical-align: top;\n",
              "    }\n",
              "\n",
              "    .dataframe thead th {\n",
              "        text-align: right;\n",
              "    }\n",
              "</style>\n",
              "<table border=\"1\" class=\"dataframe\">\n",
              "  <thead>\n",
              "    <tr style=\"text-align: right;\">\n",
              "      <th></th>\n",
              "      <th>count</th>\n",
              "    </tr>\n",
              "    <tr>\n",
              "      <th>Age</th>\n",
              "      <th></th>\n",
              "    </tr>\n",
              "  </thead>\n",
              "  <tbody>\n",
              "    <tr>\n",
              "      <th>54</th>\n",
              "      <td>321</td>\n",
              "    </tr>\n",
              "    <tr>\n",
              "      <th>53</th>\n",
              "      <td>303</td>\n",
              "    </tr>\n",
              "    <tr>\n",
              "      <th>61</th>\n",
              "      <td>303</td>\n",
              "    </tr>\n",
              "    <tr>\n",
              "      <th>48</th>\n",
              "      <td>303</td>\n",
              "    </tr>\n",
              "    <tr>\n",
              "      <th>66</th>\n",
              "      <td>295</td>\n",
              "    </tr>\n",
              "    <tr>\n",
              "      <th>...</th>\n",
              "      <td>...</td>\n",
              "    </tr>\n",
              "    <tr>\n",
              "      <th>32</th>\n",
              "      <td>97</td>\n",
              "    </tr>\n",
              "    <tr>\n",
              "      <th>38</th>\n",
              "      <td>97</td>\n",
              "    </tr>\n",
              "    <tr>\n",
              "      <th>31</th>\n",
              "      <td>97</td>\n",
              "    </tr>\n",
              "    <tr>\n",
              "      <th>79</th>\n",
              "      <td>96</td>\n",
              "    </tr>\n",
              "    <tr>\n",
              "      <th>34</th>\n",
              "      <td>94</td>\n",
              "    </tr>\n",
              "  </tbody>\n",
              "</table>\n",
              "<p>75 rows × 1 columns</p>\n",
              "</div><br><label><b>dtype:</b> int64</label>"
            ]
          },
          "metadata": {},
          "execution_count": 109
        }
      ]
    },
    {
      "cell_type": "code",
      "source": [
        "tipos_diabetes.loc[(tipos_diabetes['Age'] > 0) & (tipos_diabetes['Age'] < 18), 'Age'] = 3\n",
        "tipos_diabetes.loc[(tipos_diabetes['Age'] >= 18) & (tipos_diabetes['Age'] < 60), 'Age'] = 2\n",
        "tipos_diabetes.loc[tipos_diabetes['Age'] >= 60, 'Age'] = 1"
      ],
      "metadata": {
        "id": "KdCdr-TziKY4"
      },
      "execution_count": 110,
      "outputs": []
    },
    {
      "cell_type": "code",
      "source": [
        "tipos_diabetes['Age'].value_counts()"
      ],
      "metadata": {
        "colab": {
          "base_uri": "https://localhost:8080/",
          "height": 210
        },
        "id": "Ik6kZMM_jeDS",
        "outputId": "57fe463c-f1a4-47a9-83fd-42bb922717c8"
      },
      "execution_count": 111,
      "outputs": [
        {
          "output_type": "execute_result",
          "data": {
            "text/plain": [
              "Age\n",
              "2    9412\n",
              "1    3952\n",
              "3    2799\n",
              "Name: count, dtype: int64"
            ],
            "text/html": [
              "<div>\n",
              "<style scoped>\n",
              "    .dataframe tbody tr th:only-of-type {\n",
              "        vertical-align: middle;\n",
              "    }\n",
              "\n",
              "    .dataframe tbody tr th {\n",
              "        vertical-align: top;\n",
              "    }\n",
              "\n",
              "    .dataframe thead th {\n",
              "        text-align: right;\n",
              "    }\n",
              "</style>\n",
              "<table border=\"1\" class=\"dataframe\">\n",
              "  <thead>\n",
              "    <tr style=\"text-align: right;\">\n",
              "      <th></th>\n",
              "      <th>count</th>\n",
              "    </tr>\n",
              "    <tr>\n",
              "      <th>Age</th>\n",
              "      <th></th>\n",
              "    </tr>\n",
              "  </thead>\n",
              "  <tbody>\n",
              "    <tr>\n",
              "      <th>2</th>\n",
              "      <td>9412</td>\n",
              "    </tr>\n",
              "    <tr>\n",
              "      <th>1</th>\n",
              "      <td>3952</td>\n",
              "    </tr>\n",
              "    <tr>\n",
              "      <th>3</th>\n",
              "      <td>2799</td>\n",
              "    </tr>\n",
              "  </tbody>\n",
              "</table>\n",
              "</div><br><label><b>dtype:</b> int64</label>"
            ]
          },
          "metadata": {},
          "execution_count": 111
        }
      ]
    },
    {
      "cell_type": "markdown",
      "source": [
        "<h3>\n",
        "Adicionando label para os tipos de diabetes sendo 1 para Type 1 Diabetes, 2 para Type 2 Diabetes e 3 para Type 3c Diabetes (Pancreatogenic Diabetes)\n",
        "</h3>"
      ],
      "metadata": {
        "id": "kySDjOX1koT5"
      }
    },
    {
      "cell_type": "code",
      "source": [
        "tipos_diabetes.loc[tipos_diabetes['Target'] == \"Type 1 Diabetes\", \"Target\"] = 1\n",
        "tipos_diabetes.loc[tipos_diabetes['Target'] == \"Type 2 Diabetes\", \"Target\"] = 2\n",
        "tipos_diabetes.loc[tipos_diabetes['Target'] == \"Type 3c Diabetes (Pancreatogenic Diabetes)\", \"Target\"] = 3"
      ],
      "metadata": {
        "id": "XMUDM5d8lC9t"
      },
      "execution_count": null,
      "outputs": []
    },
    {
      "cell_type": "code",
      "source": [
        "tipos_diabetes['Target'].value_counts()"
      ],
      "metadata": {
        "colab": {
          "base_uri": "https://localhost:8080/",
          "height": 210
        },
        "id": "XyRCVFt5lgfs",
        "outputId": "f318b6e0-fb69-4e5a-bfbe-3bc511ac9697"
      },
      "execution_count": 118,
      "outputs": [
        {
          "output_type": "execute_result",
          "data": {
            "text/plain": [
              "Target\n",
              "1    5446\n",
              "2    5397\n",
              "3    5320\n",
              "Name: count, dtype: int64"
            ],
            "text/html": [
              "<div>\n",
              "<style scoped>\n",
              "    .dataframe tbody tr th:only-of-type {\n",
              "        vertical-align: middle;\n",
              "    }\n",
              "\n",
              "    .dataframe tbody tr th {\n",
              "        vertical-align: top;\n",
              "    }\n",
              "\n",
              "    .dataframe thead th {\n",
              "        text-align: right;\n",
              "    }\n",
              "</style>\n",
              "<table border=\"1\" class=\"dataframe\">\n",
              "  <thead>\n",
              "    <tr style=\"text-align: right;\">\n",
              "      <th></th>\n",
              "      <th>count</th>\n",
              "    </tr>\n",
              "    <tr>\n",
              "      <th>Target</th>\n",
              "      <th></th>\n",
              "    </tr>\n",
              "  </thead>\n",
              "  <tbody>\n",
              "    <tr>\n",
              "      <th>1</th>\n",
              "      <td>5446</td>\n",
              "    </tr>\n",
              "    <tr>\n",
              "      <th>2</th>\n",
              "      <td>5397</td>\n",
              "    </tr>\n",
              "    <tr>\n",
              "      <th>3</th>\n",
              "      <td>5320</td>\n",
              "    </tr>\n",
              "  </tbody>\n",
              "</table>\n",
              "</div><br><label><b>dtype:</b> int64</label>"
            ]
          },
          "metadata": {},
          "execution_count": 118
        }
      ]
    },
    {
      "cell_type": "markdown",
      "source": [
        "<h3> Escolhendo as váriaveis de interesse e setando o target como inteiro</h3>"
      ],
      "metadata": {
        "id": "h8PwG9fhzyS1"
      }
    },
    {
      "cell_type": "code",
      "source": [
        "df2 = tipos_diabetes[['Family History','Age','Physical Activity','Target']]\n",
        "df2['Target'] = df2['Target'].astype(int)\n",
        "df2"
      ],
      "metadata": {
        "colab": {
          "base_uri": "https://localhost:8080/",
          "height": 528
        },
        "id": "6PePmT7YdtkT",
        "outputId": "a040a606-271c-443c-e812-40e22d58ccba"
      },
      "execution_count": 122,
      "outputs": [
        {
          "output_type": "stream",
          "name": "stderr",
          "text": [
            "<ipython-input-122-333e1a80a45c>:2: SettingWithCopyWarning: \n",
            "A value is trying to be set on a copy of a slice from a DataFrame.\n",
            "Try using .loc[row_indexer,col_indexer] = value instead\n",
            "\n",
            "See the caveats in the documentation: https://pandas.pydata.org/pandas-docs/stable/user_guide/indexing.html#returning-a-view-versus-a-copy\n",
            "  df2['Target'] = df2['Target'].astype(int)\n"
          ]
        },
        {
          "output_type": "execute_result",
          "data": {
            "text/plain": [
              "      Family History  Age Physical Activity  Target\n",
              "3                  0    3                 3       1\n",
              "6                  0    2                 2       2\n",
              "11                 0    2                 3       1\n",
              "18                 0    1                 2       3\n",
              "19                 1    3                 3       1\n",
              "...              ...  ...               ...     ...\n",
              "69972              0    2                 3       2\n",
              "69975              0    3                 1       1\n",
              "69978              0    2                 3       3\n",
              "69991              0    2                 1       3\n",
              "69997              0    3                 3       1\n",
              "\n",
              "[16163 rows x 4 columns]"
            ],
            "text/html": [
              "\n",
              "  <div id=\"df-3f67ba22-5556-430d-8265-dd593886b4bb\" class=\"colab-df-container\">\n",
              "    <div>\n",
              "<style scoped>\n",
              "    .dataframe tbody tr th:only-of-type {\n",
              "        vertical-align: middle;\n",
              "    }\n",
              "\n",
              "    .dataframe tbody tr th {\n",
              "        vertical-align: top;\n",
              "    }\n",
              "\n",
              "    .dataframe thead th {\n",
              "        text-align: right;\n",
              "    }\n",
              "</style>\n",
              "<table border=\"1\" class=\"dataframe\">\n",
              "  <thead>\n",
              "    <tr style=\"text-align: right;\">\n",
              "      <th></th>\n",
              "      <th>Family History</th>\n",
              "      <th>Age</th>\n",
              "      <th>Physical Activity</th>\n",
              "      <th>Target</th>\n",
              "    </tr>\n",
              "  </thead>\n",
              "  <tbody>\n",
              "    <tr>\n",
              "      <th>3</th>\n",
              "      <td>0</td>\n",
              "      <td>3</td>\n",
              "      <td>3</td>\n",
              "      <td>1</td>\n",
              "    </tr>\n",
              "    <tr>\n",
              "      <th>6</th>\n",
              "      <td>0</td>\n",
              "      <td>2</td>\n",
              "      <td>2</td>\n",
              "      <td>2</td>\n",
              "    </tr>\n",
              "    <tr>\n",
              "      <th>11</th>\n",
              "      <td>0</td>\n",
              "      <td>2</td>\n",
              "      <td>3</td>\n",
              "      <td>1</td>\n",
              "    </tr>\n",
              "    <tr>\n",
              "      <th>18</th>\n",
              "      <td>0</td>\n",
              "      <td>1</td>\n",
              "      <td>2</td>\n",
              "      <td>3</td>\n",
              "    </tr>\n",
              "    <tr>\n",
              "      <th>19</th>\n",
              "      <td>1</td>\n",
              "      <td>3</td>\n",
              "      <td>3</td>\n",
              "      <td>1</td>\n",
              "    </tr>\n",
              "    <tr>\n",
              "      <th>...</th>\n",
              "      <td>...</td>\n",
              "      <td>...</td>\n",
              "      <td>...</td>\n",
              "      <td>...</td>\n",
              "    </tr>\n",
              "    <tr>\n",
              "      <th>69972</th>\n",
              "      <td>0</td>\n",
              "      <td>2</td>\n",
              "      <td>3</td>\n",
              "      <td>2</td>\n",
              "    </tr>\n",
              "    <tr>\n",
              "      <th>69975</th>\n",
              "      <td>0</td>\n",
              "      <td>3</td>\n",
              "      <td>1</td>\n",
              "      <td>1</td>\n",
              "    </tr>\n",
              "    <tr>\n",
              "      <th>69978</th>\n",
              "      <td>0</td>\n",
              "      <td>2</td>\n",
              "      <td>3</td>\n",
              "      <td>3</td>\n",
              "    </tr>\n",
              "    <tr>\n",
              "      <th>69991</th>\n",
              "      <td>0</td>\n",
              "      <td>2</td>\n",
              "      <td>1</td>\n",
              "      <td>3</td>\n",
              "    </tr>\n",
              "    <tr>\n",
              "      <th>69997</th>\n",
              "      <td>0</td>\n",
              "      <td>3</td>\n",
              "      <td>3</td>\n",
              "      <td>1</td>\n",
              "    </tr>\n",
              "  </tbody>\n",
              "</table>\n",
              "<p>16163 rows × 4 columns</p>\n",
              "</div>\n",
              "    <div class=\"colab-df-buttons\">\n",
              "\n",
              "  <div class=\"colab-df-container\">\n",
              "    <button class=\"colab-df-convert\" onclick=\"convertToInteractive('df-3f67ba22-5556-430d-8265-dd593886b4bb')\"\n",
              "            title=\"Convert this dataframe to an interactive table.\"\n",
              "            style=\"display:none;\">\n",
              "\n",
              "  <svg xmlns=\"http://www.w3.org/2000/svg\" height=\"24px\" viewBox=\"0 -960 960 960\">\n",
              "    <path d=\"M120-120v-720h720v720H120Zm60-500h600v-160H180v160Zm220 220h160v-160H400v160Zm0 220h160v-160H400v160ZM180-400h160v-160H180v160Zm440 0h160v-160H620v160ZM180-180h160v-160H180v160Zm440 0h160v-160H620v160Z\"/>\n",
              "  </svg>\n",
              "    </button>\n",
              "\n",
              "  <style>\n",
              "    .colab-df-container {\n",
              "      display:flex;\n",
              "      gap: 12px;\n",
              "    }\n",
              "\n",
              "    .colab-df-convert {\n",
              "      background-color: #E8F0FE;\n",
              "      border: none;\n",
              "      border-radius: 50%;\n",
              "      cursor: pointer;\n",
              "      display: none;\n",
              "      fill: #1967D2;\n",
              "      height: 32px;\n",
              "      padding: 0 0 0 0;\n",
              "      width: 32px;\n",
              "    }\n",
              "\n",
              "    .colab-df-convert:hover {\n",
              "      background-color: #E2EBFA;\n",
              "      box-shadow: 0px 1px 2px rgba(60, 64, 67, 0.3), 0px 1px 3px 1px rgba(60, 64, 67, 0.15);\n",
              "      fill: #174EA6;\n",
              "    }\n",
              "\n",
              "    .colab-df-buttons div {\n",
              "      margin-bottom: 4px;\n",
              "    }\n",
              "\n",
              "    [theme=dark] .colab-df-convert {\n",
              "      background-color: #3B4455;\n",
              "      fill: #D2E3FC;\n",
              "    }\n",
              "\n",
              "    [theme=dark] .colab-df-convert:hover {\n",
              "      background-color: #434B5C;\n",
              "      box-shadow: 0px 1px 3px 1px rgba(0, 0, 0, 0.15);\n",
              "      filter: drop-shadow(0px 1px 2px rgba(0, 0, 0, 0.3));\n",
              "      fill: #FFFFFF;\n",
              "    }\n",
              "  </style>\n",
              "\n",
              "    <script>\n",
              "      const buttonEl =\n",
              "        document.querySelector('#df-3f67ba22-5556-430d-8265-dd593886b4bb button.colab-df-convert');\n",
              "      buttonEl.style.display =\n",
              "        google.colab.kernel.accessAllowed ? 'block' : 'none';\n",
              "\n",
              "      async function convertToInteractive(key) {\n",
              "        const element = document.querySelector('#df-3f67ba22-5556-430d-8265-dd593886b4bb');\n",
              "        const dataTable =\n",
              "          await google.colab.kernel.invokeFunction('convertToInteractive',\n",
              "                                                    [key], {});\n",
              "        if (!dataTable) return;\n",
              "\n",
              "        const docLinkHtml = 'Like what you see? Visit the ' +\n",
              "          '<a target=\"_blank\" href=https://colab.research.google.com/notebooks/data_table.ipynb>data table notebook</a>'\n",
              "          + ' to learn more about interactive tables.';\n",
              "        element.innerHTML = '';\n",
              "        dataTable['output_type'] = 'display_data';\n",
              "        await google.colab.output.renderOutput(dataTable, element);\n",
              "        const docLink = document.createElement('div');\n",
              "        docLink.innerHTML = docLinkHtml;\n",
              "        element.appendChild(docLink);\n",
              "      }\n",
              "    </script>\n",
              "  </div>\n",
              "\n",
              "\n",
              "<div id=\"df-e998d072-df66-4a34-9aef-4563c5912618\">\n",
              "  <button class=\"colab-df-quickchart\" onclick=\"quickchart('df-e998d072-df66-4a34-9aef-4563c5912618')\"\n",
              "            title=\"Suggest charts\"\n",
              "            style=\"display:none;\">\n",
              "\n",
              "<svg xmlns=\"http://www.w3.org/2000/svg\" height=\"24px\"viewBox=\"0 0 24 24\"\n",
              "     width=\"24px\">\n",
              "    <g>\n",
              "        <path d=\"M19 3H5c-1.1 0-2 .9-2 2v14c0 1.1.9 2 2 2h14c1.1 0 2-.9 2-2V5c0-1.1-.9-2-2-2zM9 17H7v-7h2v7zm4 0h-2V7h2v10zm4 0h-2v-4h2v4z\"/>\n",
              "    </g>\n",
              "</svg>\n",
              "  </button>\n",
              "\n",
              "<style>\n",
              "  .colab-df-quickchart {\n",
              "      --bg-color: #E8F0FE;\n",
              "      --fill-color: #1967D2;\n",
              "      --hover-bg-color: #E2EBFA;\n",
              "      --hover-fill-color: #174EA6;\n",
              "      --disabled-fill-color: #AAA;\n",
              "      --disabled-bg-color: #DDD;\n",
              "  }\n",
              "\n",
              "  [theme=dark] .colab-df-quickchart {\n",
              "      --bg-color: #3B4455;\n",
              "      --fill-color: #D2E3FC;\n",
              "      --hover-bg-color: #434B5C;\n",
              "      --hover-fill-color: #FFFFFF;\n",
              "      --disabled-bg-color: #3B4455;\n",
              "      --disabled-fill-color: #666;\n",
              "  }\n",
              "\n",
              "  .colab-df-quickchart {\n",
              "    background-color: var(--bg-color);\n",
              "    border: none;\n",
              "    border-radius: 50%;\n",
              "    cursor: pointer;\n",
              "    display: none;\n",
              "    fill: var(--fill-color);\n",
              "    height: 32px;\n",
              "    padding: 0;\n",
              "    width: 32px;\n",
              "  }\n",
              "\n",
              "  .colab-df-quickchart:hover {\n",
              "    background-color: var(--hover-bg-color);\n",
              "    box-shadow: 0 1px 2px rgba(60, 64, 67, 0.3), 0 1px 3px 1px rgba(60, 64, 67, 0.15);\n",
              "    fill: var(--button-hover-fill-color);\n",
              "  }\n",
              "\n",
              "  .colab-df-quickchart-complete:disabled,\n",
              "  .colab-df-quickchart-complete:disabled:hover {\n",
              "    background-color: var(--disabled-bg-color);\n",
              "    fill: var(--disabled-fill-color);\n",
              "    box-shadow: none;\n",
              "  }\n",
              "\n",
              "  .colab-df-spinner {\n",
              "    border: 2px solid var(--fill-color);\n",
              "    border-color: transparent;\n",
              "    border-bottom-color: var(--fill-color);\n",
              "    animation:\n",
              "      spin 1s steps(1) infinite;\n",
              "  }\n",
              "\n",
              "  @keyframes spin {\n",
              "    0% {\n",
              "      border-color: transparent;\n",
              "      border-bottom-color: var(--fill-color);\n",
              "      border-left-color: var(--fill-color);\n",
              "    }\n",
              "    20% {\n",
              "      border-color: transparent;\n",
              "      border-left-color: var(--fill-color);\n",
              "      border-top-color: var(--fill-color);\n",
              "    }\n",
              "    30% {\n",
              "      border-color: transparent;\n",
              "      border-left-color: var(--fill-color);\n",
              "      border-top-color: var(--fill-color);\n",
              "      border-right-color: var(--fill-color);\n",
              "    }\n",
              "    40% {\n",
              "      border-color: transparent;\n",
              "      border-right-color: var(--fill-color);\n",
              "      border-top-color: var(--fill-color);\n",
              "    }\n",
              "    60% {\n",
              "      border-color: transparent;\n",
              "      border-right-color: var(--fill-color);\n",
              "    }\n",
              "    80% {\n",
              "      border-color: transparent;\n",
              "      border-right-color: var(--fill-color);\n",
              "      border-bottom-color: var(--fill-color);\n",
              "    }\n",
              "    90% {\n",
              "      border-color: transparent;\n",
              "      border-bottom-color: var(--fill-color);\n",
              "    }\n",
              "  }\n",
              "</style>\n",
              "\n",
              "  <script>\n",
              "    async function quickchart(key) {\n",
              "      const quickchartButtonEl =\n",
              "        document.querySelector('#' + key + ' button');\n",
              "      quickchartButtonEl.disabled = true;  // To prevent multiple clicks.\n",
              "      quickchartButtonEl.classList.add('colab-df-spinner');\n",
              "      try {\n",
              "        const charts = await google.colab.kernel.invokeFunction(\n",
              "            'suggestCharts', [key], {});\n",
              "      } catch (error) {\n",
              "        console.error('Error during call to suggestCharts:', error);\n",
              "      }\n",
              "      quickchartButtonEl.classList.remove('colab-df-spinner');\n",
              "      quickchartButtonEl.classList.add('colab-df-quickchart-complete');\n",
              "    }\n",
              "    (() => {\n",
              "      let quickchartButtonEl =\n",
              "        document.querySelector('#df-e998d072-df66-4a34-9aef-4563c5912618 button');\n",
              "      quickchartButtonEl.style.display =\n",
              "        google.colab.kernel.accessAllowed ? 'block' : 'none';\n",
              "    })();\n",
              "  </script>\n",
              "</div>\n",
              "\n",
              "  <div id=\"id_6e206c3d-3a65-422b-b614-2422ac103e34\">\n",
              "    <style>\n",
              "      .colab-df-generate {\n",
              "        background-color: #E8F0FE;\n",
              "        border: none;\n",
              "        border-radius: 50%;\n",
              "        cursor: pointer;\n",
              "        display: none;\n",
              "        fill: #1967D2;\n",
              "        height: 32px;\n",
              "        padding: 0 0 0 0;\n",
              "        width: 32px;\n",
              "      }\n",
              "\n",
              "      .colab-df-generate:hover {\n",
              "        background-color: #E2EBFA;\n",
              "        box-shadow: 0px 1px 2px rgba(60, 64, 67, 0.3), 0px 1px 3px 1px rgba(60, 64, 67, 0.15);\n",
              "        fill: #174EA6;\n",
              "      }\n",
              "\n",
              "      [theme=dark] .colab-df-generate {\n",
              "        background-color: #3B4455;\n",
              "        fill: #D2E3FC;\n",
              "      }\n",
              "\n",
              "      [theme=dark] .colab-df-generate:hover {\n",
              "        background-color: #434B5C;\n",
              "        box-shadow: 0px 1px 3px 1px rgba(0, 0, 0, 0.15);\n",
              "        filter: drop-shadow(0px 1px 2px rgba(0, 0, 0, 0.3));\n",
              "        fill: #FFFFFF;\n",
              "      }\n",
              "    </style>\n",
              "    <button class=\"colab-df-generate\" onclick=\"generateWithVariable('df2')\"\n",
              "            title=\"Generate code using this dataframe.\"\n",
              "            style=\"display:none;\">\n",
              "\n",
              "  <svg xmlns=\"http://www.w3.org/2000/svg\" height=\"24px\"viewBox=\"0 0 24 24\"\n",
              "       width=\"24px\">\n",
              "    <path d=\"M7,19H8.4L18.45,9,17,7.55,7,17.6ZM5,21V16.75L18.45,3.32a2,2,0,0,1,2.83,0l1.4,1.43a1.91,1.91,0,0,1,.58,1.4,1.91,1.91,0,0,1-.58,1.4L9.25,21ZM18.45,9,17,7.55Zm-12,3A5.31,5.31,0,0,0,4.9,8.1,5.31,5.31,0,0,0,1,6.5,5.31,5.31,0,0,0,4.9,4.9,5.31,5.31,0,0,0,6.5,1,5.31,5.31,0,0,0,8.1,4.9,5.31,5.31,0,0,0,12,6.5,5.46,5.46,0,0,0,6.5,12Z\"/>\n",
              "  </svg>\n",
              "    </button>\n",
              "    <script>\n",
              "      (() => {\n",
              "      const buttonEl =\n",
              "        document.querySelector('#id_6e206c3d-3a65-422b-b614-2422ac103e34 button.colab-df-generate');\n",
              "      buttonEl.style.display =\n",
              "        google.colab.kernel.accessAllowed ? 'block' : 'none';\n",
              "\n",
              "      buttonEl.onclick = () => {\n",
              "        google.colab.notebook.generateWithVariable('df2');\n",
              "      }\n",
              "      })();\n",
              "    </script>\n",
              "  </div>\n",
              "\n",
              "    </div>\n",
              "  </div>\n"
            ],
            "application/vnd.google.colaboratory.intrinsic+json": {
              "type": "dataframe",
              "variable_name": "df2",
              "repr_error": "0"
            }
          },
          "metadata": {},
          "execution_count": 122
        }
      ]
    },
    {
      "cell_type": "markdown",
      "source": [
        "<h3></h3>"
      ],
      "metadata": {
        "id": "3Q0aYZjkz9ds"
      }
    },
    {
      "cell_type": "code",
      "source": [
        "x = df2.drop(['Target'], axis=1)\n",
        "\n",
        "y = df2['Target']"
      ],
      "metadata": {
        "id": "jr-rAewrjYLs"
      },
      "execution_count": 123,
      "outputs": []
    },
    {
      "cell_type": "code",
      "source": [
        "clf = tree.DecisionTreeClassifier()\n",
        "clf = clf.fit(x, y)"
      ],
      "metadata": {
        "id": "58lrmzVsWylv"
      },
      "execution_count": 124,
      "outputs": []
    },
    {
      "cell_type": "code",
      "source": [
        "tree.plot_tree(clf)"
      ],
      "metadata": {
        "id": "-1aFYtIhXB2c"
      },
      "execution_count": null,
      "outputs": []
    },
    {
      "cell_type": "code",
      "source": [
        "plt.figure(figsize=(20,10))\n",
        "tree.plot_tree(clf, filled=True)\n",
        "plt.show()"
      ],
      "metadata": {
        "colab": {
          "base_uri": "https://localhost:8080/",
          "height": 621
        },
        "id": "gpU0sQIipPNq",
        "outputId": "07dd0b9f-a394-4804-d641-b7be1b207698"
      },
      "execution_count": 127,
      "outputs": [
        {
          "output_type": "display_data",
          "data": {
            "text/plain": [
              "<Figure size 2000x1000 with 1 Axes>"
            ],
            "image/png": "[encoded data removed]"
          },
          "metadata": {}
        }
      ]
    },
    {
      "cell_type": "code",
      "source": [
        "clf.predict([[1,1,1]])"
      ],
      "metadata": {
        "colab": {
          "base_uri": "https://localhost:8080/"
        },
        "id": "LGtNec87w3Kd",
        "outputId": "fae07cea-6ec6-4d83-94a9-1f707974f1c9"
      },
      "execution_count": 145,
      "outputs": [
        {
          "output_type": "stream",
          "name": "stderr",
          "text": [
            "/usr/local/lib/python3.10/dist-packages/sklearn/base.py:493: UserWarning: X does not have valid feature names, but DecisionTreeClassifier was fitted with feature names\n",
            "  warnings.warn(\n"
          ]
        },
        {
          "output_type": "execute_result",
          "data": {
            "text/plain": [
              "array([2])"
            ]
          },
          "metadata": {},
          "execution_count": 145
        }
      ]
    }
  ]
}